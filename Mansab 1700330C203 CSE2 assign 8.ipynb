{
  "nbformat": 4,
  "nbformat_minor": 0,
  "metadata": {
    "colab": {
      "name": "Mansab 1700330C203 cse2.ipynb",
      "provenance": []
    },
    "kernelspec": {
      "name": "python3",
      "display_name": "Python 3"
    }
  },
  "cells": [
    {
      "cell_type": "code",
      "metadata": {
        "id": "i6ikdYHpdh7S",
        "colab_type": "code",
        "colab": {
          "base_uri": "https://localhost:8080/",
          "height": 309
        },
        "outputId": "bf0ce049-848e-405c-f09e-9929381a71f4"
      },
      "source": [
        "#importing necessary libraries\n",
        "import numpy as np \n",
        "import pandas as pd \n",
        "import seaborn as sns\n",
        "import matplotlib.pyplot as plt\n",
        "%matplotlib inline\n",
        "\n",
        "from sklearn.ensemble import RandomForestClassifier, GradientBoostingClassifier\n",
        "from sklearn.linear_model import LogisticRegression\n",
        "from sklearn.metrics import (accuracy_score, log_loss, classification_report)\n",
        "from imblearn.over_sampling import SMOTE\n",
        "\n",
        "#Note:The target variable of given dataset is Attrition...\n",
        "#Reading the values..\n",
        "attrition = pd.read_csv('/content/WA_Fn-UseC_-HR-Employee-Attrition.csv')\n",
        "attrition.head()\n",
        "\n"
      ],
      "execution_count": 4,
      "outputs": [
        {
          "output_type": "execute_result",
          "data": {
            "text/html": [
              "<div>\n",
              "<style scoped>\n",
              "    .dataframe tbody tr th:only-of-type {\n",
              "        vertical-align: middle;\n",
              "    }\n",
              "\n",
              "    .dataframe tbody tr th {\n",
              "        vertical-align: top;\n",
              "    }\n",
              "\n",
              "    .dataframe thead th {\n",
              "        text-align: right;\n",
              "    }\n",
              "</style>\n",
              "<table border=\"1\" class=\"dataframe\">\n",
              "  <thead>\n",
              "    <tr style=\"text-align: right;\">\n",
              "      <th></th>\n",
              "      <th>Age</th>\n",
              "      <th>Attrition</th>\n",
              "      <th>BusinessTravel</th>\n",
              "      <th>DailyRate</th>\n",
              "      <th>Department</th>\n",
              "      <th>DistanceFromHome</th>\n",
              "      <th>Education</th>\n",
              "      <th>EducationField</th>\n",
              "      <th>EmployeeCount</th>\n",
              "      <th>EmployeeNumber</th>\n",
              "      <th>EnvironmentSatisfaction</th>\n",
              "      <th>Gender</th>\n",
              "      <th>HourlyRate</th>\n",
              "      <th>JobInvolvement</th>\n",
              "      <th>JobLevel</th>\n",
              "      <th>JobRole</th>\n",
              "      <th>JobSatisfaction</th>\n",
              "      <th>MaritalStatus</th>\n",
              "      <th>MonthlyIncome</th>\n",
              "      <th>MonthlyRate</th>\n",
              "      <th>NumCompaniesWorked</th>\n",
              "      <th>Over18</th>\n",
              "      <th>OverTime</th>\n",
              "      <th>PercentSalaryHike</th>\n",
              "      <th>PerformanceRating</th>\n",
              "      <th>RelationshipSatisfaction</th>\n",
              "      <th>StandardHours</th>\n",
              "      <th>StockOptionLevel</th>\n",
              "      <th>TotalWorkingYears</th>\n",
              "      <th>TrainingTimesLastYear</th>\n",
              "      <th>WorkLifeBalance</th>\n",
              "      <th>YearsAtCompany</th>\n",
              "      <th>YearsInCurrentRole</th>\n",
              "      <th>YearsSinceLastPromotion</th>\n",
              "      <th>YearsWithCurrManager</th>\n",
              "    </tr>\n",
              "  </thead>\n",
              "  <tbody>\n",
              "    <tr>\n",
              "      <th>0</th>\n",
              "      <td>41</td>\n",
              "      <td>Yes</td>\n",
              "      <td>Travel_Rarely</td>\n",
              "      <td>1102</td>\n",
              "      <td>Sales</td>\n",
              "      <td>1</td>\n",
              "      <td>2</td>\n",
              "      <td>Life Sciences</td>\n",
              "      <td>1</td>\n",
              "      <td>1</td>\n",
              "      <td>2</td>\n",
              "      <td>Female</td>\n",
              "      <td>94</td>\n",
              "      <td>3</td>\n",
              "      <td>2</td>\n",
              "      <td>Sales Executive</td>\n",
              "      <td>4</td>\n",
              "      <td>Single</td>\n",
              "      <td>5993</td>\n",
              "      <td>19479</td>\n",
              "      <td>8</td>\n",
              "      <td>Y</td>\n",
              "      <td>Yes</td>\n",
              "      <td>11</td>\n",
              "      <td>3</td>\n",
              "      <td>1</td>\n",
              "      <td>80</td>\n",
              "      <td>0</td>\n",
              "      <td>8</td>\n",
              "      <td>0</td>\n",
              "      <td>1</td>\n",
              "      <td>6</td>\n",
              "      <td>4</td>\n",
              "      <td>0</td>\n",
              "      <td>5</td>\n",
              "    </tr>\n",
              "    <tr>\n",
              "      <th>1</th>\n",
              "      <td>49</td>\n",
              "      <td>No</td>\n",
              "      <td>Travel_Frequently</td>\n",
              "      <td>279</td>\n",
              "      <td>Research &amp; Development</td>\n",
              "      <td>8</td>\n",
              "      <td>1</td>\n",
              "      <td>Life Sciences</td>\n",
              "      <td>1</td>\n",
              "      <td>2</td>\n",
              "      <td>3</td>\n",
              "      <td>Male</td>\n",
              "      <td>61</td>\n",
              "      <td>2</td>\n",
              "      <td>2</td>\n",
              "      <td>Research Scientist</td>\n",
              "      <td>2</td>\n",
              "      <td>Married</td>\n",
              "      <td>5130</td>\n",
              "      <td>24907</td>\n",
              "      <td>1</td>\n",
              "      <td>Y</td>\n",
              "      <td>No</td>\n",
              "      <td>23</td>\n",
              "      <td>4</td>\n",
              "      <td>4</td>\n",
              "      <td>80</td>\n",
              "      <td>1</td>\n",
              "      <td>10</td>\n",
              "      <td>3</td>\n",
              "      <td>3</td>\n",
              "      <td>10</td>\n",
              "      <td>7</td>\n",
              "      <td>1</td>\n",
              "      <td>7</td>\n",
              "    </tr>\n",
              "    <tr>\n",
              "      <th>2</th>\n",
              "      <td>37</td>\n",
              "      <td>Yes</td>\n",
              "      <td>Travel_Rarely</td>\n",
              "      <td>1373</td>\n",
              "      <td>Research &amp; Development</td>\n",
              "      <td>2</td>\n",
              "      <td>2</td>\n",
              "      <td>Other</td>\n",
              "      <td>1</td>\n",
              "      <td>4</td>\n",
              "      <td>4</td>\n",
              "      <td>Male</td>\n",
              "      <td>92</td>\n",
              "      <td>2</td>\n",
              "      <td>1</td>\n",
              "      <td>Laboratory Technician</td>\n",
              "      <td>3</td>\n",
              "      <td>Single</td>\n",
              "      <td>2090</td>\n",
              "      <td>2396</td>\n",
              "      <td>6</td>\n",
              "      <td>Y</td>\n",
              "      <td>Yes</td>\n",
              "      <td>15</td>\n",
              "      <td>3</td>\n",
              "      <td>2</td>\n",
              "      <td>80</td>\n",
              "      <td>0</td>\n",
              "      <td>7</td>\n",
              "      <td>3</td>\n",
              "      <td>3</td>\n",
              "      <td>0</td>\n",
              "      <td>0</td>\n",
              "      <td>0</td>\n",
              "      <td>0</td>\n",
              "    </tr>\n",
              "    <tr>\n",
              "      <th>3</th>\n",
              "      <td>33</td>\n",
              "      <td>No</td>\n",
              "      <td>Travel_Frequently</td>\n",
              "      <td>1392</td>\n",
              "      <td>Research &amp; Development</td>\n",
              "      <td>3</td>\n",
              "      <td>4</td>\n",
              "      <td>Life Sciences</td>\n",
              "      <td>1</td>\n",
              "      <td>5</td>\n",
              "      <td>4</td>\n",
              "      <td>Female</td>\n",
              "      <td>56</td>\n",
              "      <td>3</td>\n",
              "      <td>1</td>\n",
              "      <td>Research Scientist</td>\n",
              "      <td>3</td>\n",
              "      <td>Married</td>\n",
              "      <td>2909</td>\n",
              "      <td>23159</td>\n",
              "      <td>1</td>\n",
              "      <td>Y</td>\n",
              "      <td>Yes</td>\n",
              "      <td>11</td>\n",
              "      <td>3</td>\n",
              "      <td>3</td>\n",
              "      <td>80</td>\n",
              "      <td>0</td>\n",
              "      <td>8</td>\n",
              "      <td>3</td>\n",
              "      <td>3</td>\n",
              "      <td>8</td>\n",
              "      <td>7</td>\n",
              "      <td>3</td>\n",
              "      <td>0</td>\n",
              "    </tr>\n",
              "    <tr>\n",
              "      <th>4</th>\n",
              "      <td>27</td>\n",
              "      <td>No</td>\n",
              "      <td>Travel_Rarely</td>\n",
              "      <td>591</td>\n",
              "      <td>Research &amp; Development</td>\n",
              "      <td>2</td>\n",
              "      <td>1</td>\n",
              "      <td>Medical</td>\n",
              "      <td>1</td>\n",
              "      <td>7</td>\n",
              "      <td>1</td>\n",
              "      <td>Male</td>\n",
              "      <td>40</td>\n",
              "      <td>3</td>\n",
              "      <td>1</td>\n",
              "      <td>Laboratory Technician</td>\n",
              "      <td>2</td>\n",
              "      <td>Married</td>\n",
              "      <td>3468</td>\n",
              "      <td>16632</td>\n",
              "      <td>9</td>\n",
              "      <td>Y</td>\n",
              "      <td>No</td>\n",
              "      <td>12</td>\n",
              "      <td>3</td>\n",
              "      <td>4</td>\n",
              "      <td>80</td>\n",
              "      <td>1</td>\n",
              "      <td>6</td>\n",
              "      <td>3</td>\n",
              "      <td>3</td>\n",
              "      <td>2</td>\n",
              "      <td>2</td>\n",
              "      <td>2</td>\n",
              "      <td>2</td>\n",
              "    </tr>\n",
              "  </tbody>\n",
              "</table>\n",
              "</div>"
            ],
            "text/plain": [
              "   Age Attrition  ... YearsSinceLastPromotion  YearsWithCurrManager\n",
              "0   41       Yes  ...                       0                     5\n",
              "1   49        No  ...                       1                     7\n",
              "2   37       Yes  ...                       0                     0\n",
              "3   33        No  ...                       3                     0\n",
              "4   27        No  ...                       2                     2\n",
              "\n",
              "[5 rows x 35 columns]"
            ]
          },
          "metadata": {
            "tags": []
          },
          "execution_count": 4
        }
      ]
    },
    {
      "cell_type": "code",
      "metadata": {
        "id": "SMk9rG4Eg3aW",
        "colab_type": "code",
        "colab": {
          "base_uri": "https://localhost:8080/",
          "height": 629
        },
        "outputId": "f620a8f1-1ecd-484a-e9aa-d1987e9f7739"
      },
      "source": [
        "# Looking for NULL values..\n",
        "display(attrition.isnull().any())\n"
      ],
      "execution_count": 5,
      "outputs": [
        {
          "output_type": "display_data",
          "data": {
            "text/plain": [
              "Age                         False\n",
              "Attrition                   False\n",
              "BusinessTravel              False\n",
              "DailyRate                   False\n",
              "Department                  False\n",
              "DistanceFromHome            False\n",
              "Education                   False\n",
              "EducationField              False\n",
              "EmployeeCount               False\n",
              "EmployeeNumber              False\n",
              "EnvironmentSatisfaction     False\n",
              "Gender                      False\n",
              "HourlyRate                  False\n",
              "JobInvolvement              False\n",
              "JobLevel                    False\n",
              "JobRole                     False\n",
              "JobSatisfaction             False\n",
              "MaritalStatus               False\n",
              "MonthlyIncome               False\n",
              "MonthlyRate                 False\n",
              "NumCompaniesWorked          False\n",
              "Over18                      False\n",
              "OverTime                    False\n",
              "PercentSalaryHike           False\n",
              "PerformanceRating           False\n",
              "RelationshipSatisfaction    False\n",
              "StandardHours               False\n",
              "StockOptionLevel            False\n",
              "TotalWorkingYears           False\n",
              "TrainingTimesLastYear       False\n",
              "WorkLifeBalance             False\n",
              "YearsAtCompany              False\n",
              "YearsInCurrentRole          False\n",
              "YearsSinceLastPromotion     False\n",
              "YearsWithCurrManager        False\n",
              "dtype: bool"
            ]
          },
          "metadata": {
            "tags": []
          }
        }
      ]
    },
    {
      "cell_type": "code",
      "metadata": {
        "id": "a2BkJDxuhAZl",
        "colab_type": "code",
        "colab": {
          "base_uri": "https://localhost:8080/",
          "height": 304
        },
        "outputId": "ff6685f9-e888-4c70-b8dc-d3d849509328"
      },
      "source": [
        "attrition.Attrition.value_counts().plot(kind='bar', color=\"red\", alpha=.65)\n",
        "plt.title(\"Attrition Breakdown\")"
      ],
      "execution_count": 6,
      "outputs": [
        {
          "output_type": "execute_result",
          "data": {
            "text/plain": [
              "Text(0.5, 1.0, 'Attrition Breakdown')"
            ]
          },
          "metadata": {
            "tags": []
          },
          "execution_count": 6
        },
        {
          "output_type": "display_data",
          "data": {
            "image/png": "[encoded data removed]",
            "text/plain": [
              "<Figure size 432x288 with 1 Axes>"
            ]
          },
          "metadata": {
            "tags": [],
            "needs_background": "light"
          }
        }
      ]
    },
    {
      "cell_type": "code",
      "metadata": {
        "id": "y3AQci57hLM0",
        "colab_type": "code",
        "colab": {}
      },
      "source": [
        ""
      ],
      "execution_count": 0,
      "outputs": []
    },
    {
      "cell_type": "markdown",
      "metadata": {
        "id": "dxGuplIWhVcD",
        "colab_type": "text"
      },
      "source": [
        "The dataset is not balanced one so we need to apply oversampling technique smote on latter stages.\n",
        "\n",
        "```\n",
        "# This is formatted as code\n",
        "```\n",
        "\n"
      ]
    },
    {
      "cell_type": "markdown",
      "metadata": {
        "id": "q4MmVgNthgX5",
        "colab_type": "text"
      },
      "source": [
        ""
      ]
    },
    {
      "cell_type": "code",
      "metadata": {
        "id": "tZgn-63uhY28",
        "colab_type": "code",
        "colab": {
          "base_uri": "https://localhost:8080/",
          "height": 338
        },
        "outputId": "cf20f8e7-07c7-4d7c-dd1b-f1b06515c8ed"
      },
      "source": [
        "#Breakdown of attributes with respect to gender...\n",
        "pd.crosstab(attrition.Gender,attrition.Attrition).plot(kind='bar')\n",
        "plt.title('Attrition with respect to Gender')\n",
        "plt.xlabel('Gender')\n",
        "plt.ylabel('Frequency')"
      ],
      "execution_count": 7,
      "outputs": [
        {
          "output_type": "execute_result",
          "data": {
            "text/plain": [
              "Text(0, 0.5, 'Frequency')"
            ]
          },
          "metadata": {
            "tags": []
          },
          "execution_count": 7
        },
        {
          "output_type": "display_data",
          "data": {
            "image/png": "[encoded data removed]",
            "text/plain": [
              "<Figure size 432x288 with 1 Axes>"
            ]
          },
          "metadata": {
            "tags": [],
            "needs_background": "light"
          }
        }
      ]
    },
    {
      "cell_type": "markdown",
      "metadata": {
        "id": "QGOuToyZhvJJ",
        "colab_type": "text"
      },
      "source": [
        "It seems that is to be more of male employees had been attritioned than female employees.so gender may have some effect on attrition."
      ]
    },
    {
      "cell_type": "code",
      "metadata": {
        "id": "4oE_s7RLh-Kh",
        "colab_type": "code",
        "colab": {
          "base_uri": "https://localhost:8080/",
          "height": 429
        },
        "outputId": "0f9d00f0-cc27-4297-a917-8a37ce368c3b"
      },
      "source": [
        "#Breakdown with respect to Department..\n",
        "pd.crosstab(attrition.Department,attrition.Attrition).plot(kind='bar', stacked=False)\n",
        "plt.title('Attrition with respect to Department')\n",
        "plt.xlabel('Department')\n",
        "plt.ylabel('Frequency of Attrition')"
      ],
      "execution_count": 8,
      "outputs": [
        {
          "output_type": "execute_result",
          "data": {
            "text/plain": [
              "Text(0, 0.5, 'Frequency of Attrition')"
            ]
          },
          "metadata": {
            "tags": []
          },
          "execution_count": 8
        },
        {
          "output_type": "display_data",
          "data": {
            "image/png": "[encoded data removed]",
            "text/plain": [
              "<Figure size 432x288 with 1 Axes>"
            ]
          },
          "metadata": {
            "tags": [],
            "needs_background": "light"
          }
        }
      ]
    },
    {
      "cell_type": "markdown",
      "metadata": {
        "id": "Awi7-hyfiGN8",
        "colab_type": "text"
      },
      "source": [
        "Department variable has a huge effect on attrition varible and this will be more useful for modelling and prediction. When compared to R&D the employees of HR and Sales are comperatively low."
      ]
    },
    {
      "cell_type": "code",
      "metadata": {
        "id": "1oQGxoC9iPCi",
        "colab_type": "code",
        "colab": {
          "base_uri": "https://localhost:8080/",
          "height": 367
        },
        "outputId": "4ad1d35b-1b83-4ee1-94b7-4ec9d0e0b2cc"
      },
      "source": [
        "#Breakdown with respect to Business Travel\n",
        "pd.crosstab(attrition.BusinessTravel,attrition.Attrition).plot(kind='bar')\n",
        "plt.title('Attrition with respect to BusinessTravel')\n",
        "plt.xlabel('BusinessTravel')\n",
        "plt.ylabel('Frequency of Attrition')\n",
        "plt.xticks(rotation=40)"
      ],
      "execution_count": 9,
      "outputs": [
        {
          "output_type": "execute_result",
          "data": {
            "text/plain": [
              "(array([0, 1, 2]), <a list of 3 Text major ticklabel objects>)"
            ]
          },
          "metadata": {
            "tags": []
          },
          "execution_count": 9
        },
        {
          "output_type": "display_data",
          "data": {
            "image/png": "[encoded data removed]",
            "text/plain": [
              "<Figure size 432x288 with 1 Axes>"
            ]
          },
          "metadata": {
            "tags": [],
            "needs_background": "light"
          }
        }
      ]
    },
    {
      "cell_type": "markdown",
      "metadata": {
        "id": "N_DWox_siWoq",
        "colab_type": "text"
      },
      "source": [
        "Irrespective of the business travel the attrition is short."
      ]
    },
    {
      "cell_type": "code",
      "metadata": {
        "id": "vdZ7zfUYiZtT",
        "colab_type": "code",
        "colab": {
          "base_uri": "https://localhost:8080/",
          "height": 435
        },
        "outputId": "155daa7a-fb2a-431a-e9c6-d08847c80bc3"
      },
      "source": [
        "pd.crosstab(attrition['JobRole'],attrition['Attrition']).plot(kind='bar', stacked=False)\n",
        "plt.title('Attrition with respect to JobRole')\n",
        "plt.xlabel('JobRole')\n",
        "plt.ylabel('Frequency of Attrition')"
      ],
      "execution_count": 10,
      "outputs": [
        {
          "output_type": "execute_result",
          "data": {
            "text/plain": [
              "Text(0, 0.5, 'Frequency of Attrition')"
            ]
          },
          "metadata": {
            "tags": []
          },
          "execution_count": 10
        },
        {
          "output_type": "display_data",
          "data": {
            "image/png": "[encoded data removed]",
            "text/plain": [
              "<Figure size 432x288 with 1 Axes>"
            ]
          },
          "metadata": {
            "tags": [],
            "needs_background": "light"
          }
        }
      ]
    },
    {
      "cell_type": "markdown",
      "metadata": {
        "id": "gAfRJAYSifsM",
        "colab_type": "text"
      },
      "source": [
        "Job role seems to have more impact on the attrition rate of employees based on the above plot and we can see less attrition in this case of Research Director"
      ]
    },
    {
      "cell_type": "code",
      "metadata": {
        "id": "6ySHGRg2im5U",
        "colab_type": "code",
        "colab": {
          "base_uri": "https://localhost:8080/",
          "height": 392
        },
        "outputId": "9ca768da-7a6a-4209-a8f8-8d9813e1727f"
      },
      "source": [
        "#Breakdown with respect to Education field...\n",
        "pd.crosstab(attrition.EducationField,attrition.Attrition).plot(kind='bar',stacked=False)\n",
        "plt.title('Attrition with respect to EducationField')\n",
        "plt.xlabel('EducationField')\n",
        "plt.ylabel('Frequency of Attrition')"
      ],
      "execution_count": 11,
      "outputs": [
        {
          "output_type": "execute_result",
          "data": {
            "text/plain": [
              "Text(0, 0.5, 'Frequency of Attrition')"
            ]
          },
          "metadata": {
            "tags": []
          },
          "execution_count": 11
        },
        {
          "output_type": "display_data",
          "data": {
            "image/png": "[encoded data removed]",
            "text/plain": [
              "<Figure size 432x288 with 1 Axes>"
            ]
          },
          "metadata": {
            "tags": [],
            "needs_background": "light"
          }
        }
      ]
    },
    {
      "cell_type": "markdown",
      "metadata": {
        "id": "7duW-Hulitg5",
        "colab_type": "text"
      },
      "source": [
        "LifeSciences and Medical have very large number of employees and attrition rate also.The % of employees who have been attritioned and who have been retained are also same in all education fields."
      ]
    },
    {
      "cell_type": "code",
      "metadata": {
        "id": "Y-WkYGLkizwk",
        "colab_type": "code",
        "colab": {
          "base_uri": "https://localhost:8080/",
          "height": 309
        },
        "outputId": "7c6ac50c-c04e-4ff0-9495-254ec65a8380"
      },
      "source": [
        "#Breakdown with respect to JobLevel...\n",
        "pd.crosstab(attrition.JobLevel,attrition.Attrition).plot(kind='bar',stacked=False)\n",
        "plt.title('Attrition with respect to JobLevel')\n",
        "plt.xlabel('JobLevel')\n",
        "plt.ylabel('Frequency of Attrition')"
      ],
      "execution_count": 12,
      "outputs": [
        {
          "output_type": "execute_result",
          "data": {
            "text/plain": [
              "Text(0, 0.5, 'Frequency of Attrition')"
            ]
          },
          "metadata": {
            "tags": []
          },
          "execution_count": 12
        },
        {
          "output_type": "display_data",
          "data": {
            "image/png": "[encoded data removed]",
            "text/plain": [
              "<Figure size 432x288 with 1 Axes>"
            ]
          },
          "metadata": {
            "tags": [],
            "needs_background": "light"
          }
        }
      ]
    },
    {
      "cell_type": "markdown",
      "metadata": {
        "id": "ouUzRxLMi-WQ",
        "colab_type": "text"
      },
      "source": [
        "People in Joblevel 4 have a very high percent for a 'No' and a low percent for a 'Yes'. Similar inferences can be made for other job levels."
      ]
    },
    {
      "cell_type": "code",
      "metadata": {
        "id": "rNDoj2I-i_WH",
        "colab_type": "code",
        "colab": {
          "base_uri": "https://localhost:8080/",
          "height": 309
        },
        "outputId": "0b149ecd-7852-44dd-d67d-561493be4295"
      },
      "source": [
        "#Breakdown with respect to JobSatisfication...\n",
        "pd.crosstab(attrition.JobSatisfaction,attrition.Attrition).plot(kind='bar',stacked=False)\n",
        "plt.title('Attrition with respect to JobSatisfication')\n",
        "plt.xlabel('JobSatisfication')\n",
        "plt.ylabel('Frequency of Attrition')"
      ],
      "execution_count": 13,
      "outputs": [
        {
          "output_type": "execute_result",
          "data": {
            "text/plain": [
              "Text(0, 0.5, 'Frequency of Attrition')"
            ]
          },
          "metadata": {
            "tags": []
          },
          "execution_count": 13
        },
        {
          "output_type": "display_data",
          "data": {
            "image/png": "[encoded data removed]",
            "text/plain": [
              "<Figure size 432x288 with 1 Axes>"
            ]
          },
          "metadata": {
            "tags": [],
            "needs_background": "light"
          }
        }
      ]
    },
    {
      "cell_type": "markdown",
      "metadata": {
        "id": "b7yVxNf4jSoz",
        "colab_type": "text"
      },
      "source": [
        "for higher values of job satisfaction(i.e. more a person is satisfied with his job) lesser percent of them say a 'Yes' which is quite obvious as highly contented workers will obvioulsy not like to leave the organisation."
      ]
    },
    {
      "cell_type": "code",
      "metadata": {
        "id": "m4BgNwq-jT0F",
        "colab_type": "code",
        "colab": {
          "base_uri": "https://localhost:8080/",
          "height": 309
        },
        "outputId": "2edd0748-0893-4852-9600-f4a8dabdeff2"
      },
      "source": [
        "#Breakdown with respect to Environment Satisfication...\n",
        "pd.crosstab(attrition.EnvironmentSatisfaction,attrition.Attrition).plot(kind='bar',stacked=False)\n",
        "plt.title('Attrition with respect to Environment Satisfication')\n",
        "plt.xlabel('Environment Satisfication')\n",
        "plt.ylabel('Frequency of Attrition')"
      ],
      "execution_count": 14,
      "outputs": [
        {
          "output_type": "execute_result",
          "data": {
            "text/plain": [
              "Text(0, 0.5, 'Frequency of Attrition')"
            ]
          },
          "metadata": {
            "tags": []
          },
          "execution_count": 14
        },
        {
          "output_type": "display_data",
          "data": {
            "image/png": "[encoded data removed]",
            "text/plain": [
              "<Figure size 432x288 with 1 Axes>"
            ]
          },
          "metadata": {
            "tags": [],
            "needs_background": "light"
          }
        }
      ]
    },
    {
      "cell_type": "markdown",
      "metadata": {
        "id": "tAD5wYlPjb1T",
        "colab_type": "text"
      },
      "source": [
        "we can notice that the relative percent of 'No' in people with higher grade of environment satisfacftion. This can be done for all the features further but i feel this are some of the important features,which can be used aganist our target class"
      ]
    },
    {
      "cell_type": "code",
      "metadata": {
        "id": "kcjV9Uv4jc1a",
        "colab_type": "code",
        "colab": {
          "base_uri": "https://localhost:8080/",
          "height": 363
        },
        "outputId": "1af7a10a-3ac6-4140-f531-52e5914e6670"
      },
      "source": [
        "wcorr = attrition.corr()\n",
        "plt.matshow(wcorr.abs())\n",
        "plt.colorbar()\n",
        "plt.xticks(range(len(wcorr.columns)), wcorr.columns, rotation='vertical');\n",
        "plt.yticks(range(len(wcorr.columns)), wcorr.columns);"
      ],
      "execution_count": 15,
      "outputs": [
        {
          "output_type": "display_data",
          "data": {
            "image/png": "[encoded data removed]",
            "text/plain": [
              "<Figure size 288x288 with 2 Axes>"
            ]
          },
          "metadata": {
            "tags": [],
            "needs_background": "light"
          }
        }
      ]
    },
    {
      "cell_type": "markdown",
      "metadata": {
        "id": "7_FxT8d2jsmW",
        "colab_type": "text"
      },
      "source": [
        "\n",
        "NAME:Tumati Naga Praneeth ENROLLMENT NO:1700282C203 CSE-2\n",
        "\n",
        "[ ]\n",
        "from imblearn.over_sampling import SMOTE\n",
        "\n",
        "#Note:The target variable of given dataset is Attrition...\n",
        "#Reading the values..\n",
        "attrition = pd.read_csv('/content/WA_Fn-UseC_-HR-Employee-Attrition.csv')\n",
        "attrition.head()\n",
        "\n",
        "\n",
        "\n",
        "\n",
        "\n",
        "[ ]\n",
        "attrition.shape #to know no of rows and columns..\n",
        "\n",
        "[ ]\n",
        "# Looking for NULL values..\n",
        "display(attrition.isnull().any())\n",
        "\n",
        "\n",
        "[ ]\n",
        "attrition.Attrition.value_counts().plot(kind='bar', color=\"red\", alpha=.65)\n",
        "plt.title(\"Attrition Breakdown\")\n",
        "\n",
        "\n",
        "The dataset is imbalanced one so we have to apply oversampling technique smote on latter stages.\n",
        "\n",
        "[ ]\n",
        "[ ]\n",
        "#Breakdown of attricutes with respect to gender...\n",
        "pd.crosstab(attrition.Gender,attrition.Attrition).plot(kind='bar')\n",
        "plt.title('Attrition with respect to Gender')\n",
        "plt.xlabel('Gender')\n",
        "plt.ylabel('Frequency')\n",
        "\n",
        "\n",
        "It seems to be more of male employees have been attritioned than female employees.so gender may have some effect on attrition.\n",
        "\n",
        "[ ]\n",
        "#Breakdown with respect to Department..\n",
        "pd.crosstab(attrition.Department,attrition.Attrition).plot(kind='bar', stacked=False)\n",
        "plt.title('Attrition with respect to Department')\n",
        "plt.xlabel('Department')\n",
        "plt.ylabel('Frequency of Attrition')\n",
        "\n",
        "\n",
        "Department variable has a huge effect on attrition varible and this will be useful for modelling and prediction. When compared to R&D the employees of HR and Sales are comperatively low.\n",
        "\n",
        "[ ]\n",
        "#Breakdown with respect to Business Travel\n",
        "pd.crosstab(attrition.BusinessTravel,attrition.Attrition).plot(kind='bar')\n",
        "plt.title('Attrition with respect to BusinessTravel')\n",
        "plt.xlabel('BusinessTravel')\n",
        "plt.ylabel('Frequency of Attrition')\n",
        "plt.xticks(rotation=40)\n",
        "\n",
        "\n",
        "Irrespective of the business travel the attrition is less.\n",
        "\n",
        "[ ]\n",
        "pd.crosstab(attrition['JobRole'],attrition['Attrition']).plot(kind='bar', stacked=False)\n",
        "plt.title('Attrition with respect to JobRole')\n",
        "plt.xlabel('JobRole')\n",
        "plt.ylabel('Frequency of Attrition')\n",
        "\n",
        "\n",
        "\n",
        "Job role seems to have an impact on the attrition rate of employees based on the above plot and we see less attrition in the case of Research Director\n",
        "\n",
        "[ ]\n",
        "#Breakdown with respect to Education field...\n",
        "pd.crosstab(attrition.EducationField,attrition.Attrition).plot(kind='bar',stacked=False)\n",
        "plt.title('Attrition with respect to EducationField')\n",
        "plt.xlabel('EducationField')\n",
        "plt.ylabel('Frequency of Attrition')\n",
        "\n",
        "\n",
        "LifeSciences and Medical has the large number of employees and attrition rate also.The % of employees who have been attritioned and who have been retained are also same in all education fields.\n",
        "\n",
        "[ ]\n",
        "#Breakdown with respect to JobLevel...\n",
        "pd.crosstab(attrition.JobLevel,attrition.Attrition).plot(kind='bar',stacked=False)\n",
        "plt.title('Attrition with respect to JobLevel')\n",
        "plt.xlabel('JobLevel')\n",
        "plt.ylabel('Frequency of Attrition')\n",
        "\n",
        "\n",
        "People in Joblevel 4 have a very high percent for a 'No' and a low percent for a 'Yes'. Similar inferences can be made for other job levels.\n",
        "\n",
        "[ ]\n",
        "#Breakdown with respect to JobSatisfication...\n",
        "pd.crosstab(attrition.JobSatisfaction,attrition.Attrition).plot(kind='bar',stacked=False)\n",
        "plt.title('Attrition with respect to JobSatisfication')\n",
        "plt.xlabel('JobSatisfication')\n",
        "plt.ylabel('Frequency of Attrition')\n",
        "\n",
        "\n",
        "for higher values of job satisfaction(i.e. more a person is satisfied with his job) lesser percent of them say a 'Yes' which is quite obvious as highly contented workers will obvioulsy not like to leave the organisation.\n",
        "\n",
        "[ ]\n",
        "#Breakdown with respect to Environment Satisfication...\n",
        "pd.crosstab(attrition.EnvironmentSatisfaction,attrition.Attrition).plot(kind='bar',stacked=False)\n",
        "plt.title('Attrition with respect to Environment Satisfication')\n",
        "plt.xlabel('Environment Satisfication')\n",
        "plt.ylabel('Frequency of Attrition')\n",
        "\n",
        "\n",
        "we can notice that the relative percent of 'No' in people with higher grade of environment satisfacftion. This can be done for all the features further but i feel this are some of the important features,which can be used aganist our target class\n",
        "\n",
        "[ ]\n",
        "[ ]\n",
        "wcorr = attrition.corr()\n",
        "plt.matshow(wcorr.abs())\n",
        "plt.colorbar()\n",
        "plt.xticks(range(len(wcorr.columns)), wcorr.columns, rotation='vertical');\n",
        "plt.yticks(range(len(wcorr.columns)), wcorr.columns);\n",
        "\n",
        "\n",
        ".corr() method on a pandas data frame returns a corelation data frame containing the corelation values b/w the various attributes.we can drop some highly corelated features as they add redundancy to the model but since the corelation is very less in genral let us keep all the features for now. In case of highly corelated features we can use something like Principal Component Analysis(PCA) to reduce our feature space."
      ]
    },
    {
      "cell_type": "code",
      "metadata": {
        "id": "--3mhBHVkm9u",
        "colab_type": "code",
        "colab": {}
      },
      "source": [
        "def encoding(data):\n",
        "    # Empty list to store columns with categorical data\n",
        "    categorical = []\n",
        "    for col, value in data.iteritems():\n",
        "        if value.dtype == 'object':\n",
        "            categorical.append(col)\n",
        "\n",
        "    # Store the numerical columns in a list numerical\n",
        "    numerical = data.columns.difference(categorical)\n",
        "    attrition_cat = data[categorical]\n",
        "    attrition_cat = pd.get_dummies(attrition_cat)\n",
        "    # Store the numerical features to a dataframe attrition_num\n",
        "    attrition_num = data[numerical]\n",
        "    # Concat the two dataframes together columnwise\n",
        "    attrition_final = pd.concat([attrition_num, attrition_cat], axis=1)\n",
        "    print(attrition_final.columns)\n",
        "    return attrition_final"
      ],
      "execution_count": 0,
      "outputs": []
    },
    {
      "cell_type": "code",
      "metadata": {
        "id": "ba3-c5DGkx7e",
        "colab_type": "code",
        "colab": {}
      },
      "source": [
        "x_train_encode=encoding(x_train)\n",
        "x_train_encode.shape"
      ],
      "execution_count": 0,
      "outputs": []
    },
    {
      "cell_type": "code",
      "metadata": {
        "id": "8WiKVWKFk3c6",
        "colab_type": "code",
        "colab": {}
      },
      "source": [
        "Index(['Age', 'DailyRate', 'DistanceFromHome', 'Education', 'EmployeeCount',\n",
        "       'EmployeeNumber', 'EnvironmentSatisfaction', 'HourlyRate',\n",
        "       'JobInvolvement', 'JobLevel', 'JobSatisfaction', 'MonthlyIncome',\n",
        "       'MonthlyRate', 'NumCompaniesWorked', 'PercentSalaryHike',\n",
        "       'PerformanceRating', 'RelationshipSatisfaction', 'StandardHours',\n",
        "       'StockOptionLevel', 'TotalWorkingYears', 'TrainingTimesLastYear',\n",
        "       'WorkLifeBalance', 'YearsAtCompany', 'YearsInCurrentRole',\n",
        "       'YearsSinceLastPromotion', 'YearsWithCurrManager',\n",
        "       'BusinessTravel_Non-Travel', 'BusinessTravel_Travel_Frequently',\n",
        "       'BusinessTravel_Travel_Rarely', 'Department_Human Resources',\n",
        "       'Department_Research & Development', 'Department_Sales',\n",
        "       'EducationField_Human Resources', 'EducationField_Life Sciences',\n",
        "       'EducationField_Marketing', 'EducationField_Medical',\n",
        "       'EducationField_Other', 'EducationField_Technical Degree',\n",
        "       'Gender_Female', 'Gender_Male', 'JobRole_Healthcare Representative',\n",
        "       'JobRole_Human Resources', 'JobRole_Laboratory Technician',\n",
        "       'JobRole_Manager', 'JobRole_Manufacturing Director',\n",
        "       'JobRole_Research Director', 'JobRole_Research Scientist',\n",
        "       'JobRole_Sales Executive', 'JobRole_Sales Representative',\n",
        "       'MaritalStatus_Divorced', 'MaritalStatus_Married',\n",
        "       'MaritalStatus_Single', 'Over18_Y', 'OverTime_No', 'OverTime_Yes'],\n",
        "      dtype='object')\n",
        "(1176, 55)"
      ],
      "execution_count": 0,
      "outputs": []
    },
    {
      "cell_type": "code",
      "metadata": {
        "id": "DUTQv_xsk_65",
        "colab_type": "code",
        "colab": {}
      },
      "source": [
        "x_test_encode=encoding(x_test)\n",
        "x_test_encode.shape"
      ],
      "execution_count": 0,
      "outputs": []
    },
    {
      "cell_type": "markdown",
      "metadata": {
        "id": "HR7HpejElQkX",
        "colab_type": "text"
      },
      "source": [
        "Random Forest Method"
      ]
    },
    {
      "cell_type": "code",
      "metadata": {
        "id": "TbLjMEtLlYqB",
        "colab_type": "code",
        "colab": {}
      },
      "source": [
        "seed = 0   # We set our random seed to zero for reproducibility\n",
        "# Random Forest parameters\n",
        "rf_params = {\n",
        "    'n_jobs': -1,\n",
        "    'n_estimators': 1000,\n",
        "#     'warm_start': True, \n",
        "    'max_features': 0.3,\n",
        "    'max_depth': 4,\n",
        "    'min_samples_leaf': 2,\n",
        "    'max_features' : 'sqrt',\n",
        "    'random_state' : seed,\n",
        "    'verbose': 0\n",
        "}\n",
        "\n",
        "rf = RandomForestClassifier(**rf_params)\n",
        "rf.fit(smote_train, smote_target)\n",
        "print(\"Fitting of Random Forest finished\")"
      ],
      "execution_count": 0,
      "outputs": []
    },
    {
      "cell_type": "code",
      "metadata": {
        "id": "I8DmaynVldy-",
        "colab_type": "code",
        "colab": {}
      },
      "source": [
        "Fitting of Random Forest finished"
      ],
      "execution_count": 0,
      "outputs": []
    },
    {
      "cell_type": "code",
      "metadata": {
        "id": "CRMpkn8elgNy",
        "colab_type": "code",
        "colab": {}
      },
      "source": [
        "rf_predictions = rf.predict(x_test_encode)\n",
        "print(\"Predictions finished\")"
      ],
      "execution_count": 0,
      "outputs": []
    },
    {
      "cell_type": "code",
      "metadata": {
        "id": "WsLSsV4flnCb",
        "colab_type": "code",
        "colab": {}
      },
      "source": [
        "Predictions finished"
      ],
      "execution_count": 0,
      "outputs": []
    },
    {
      "cell_type": "code",
      "metadata": {
        "id": "EpKp9EohluNI",
        "colab_type": "code",
        "colab": {}
      },
      "source": [
        "print(\"Accuracy score: {}\".format(accuracy_score(y_test_encode, rf_predictions)))\n",
        "print(\"=\"*80)\n",
        "print(classification_report(y_test_encode, rf_predictions))"
      ],
      "execution_count": 0,
      "outputs": []
    }
  ]
}